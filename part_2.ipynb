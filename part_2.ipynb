{
 "cells": [
  {
   "cell_type": "markdown",
   "metadata": {},
   "source": [
    "### **Importing Libraries**"
   ]
  },
  {
   "cell_type": "code",
   "execution_count": 1,
   "metadata": {},
   "outputs": [
    {
     "name": "stderr",
     "output_type": "stream",
     "text": [
      "[nltk_data] Downloading package punkt to /home/chetan/nltk_data...\n",
      "[nltk_data]   Package punkt is already up-to-date!\n"
     ]
    },
    {
     "name": "stdout",
     "output_type": "stream",
     "text": [
      "cuda\n"
     ]
    },
    {
     "name": "stderr",
     "output_type": "stream",
     "text": [
      "2024-11-16 23:52:32.412923: I tensorflow/core/platform/cpu_feature_guard.cc:182] This TensorFlow binary is optimized to use available CPU instructions in performance-critical operations.\n",
      "To enable the following instructions: SSE4.1 SSE4.2 AVX AVX2 AVX_VNNI FMA, in other operations, rebuild TensorFlow with the appropriate compiler flags.\n"
     ]
    }
   ],
   "source": [
    "import torch\n",
    "import math\n",
    "import gc\n",
    "import psutil\n",
    "import time\n",
    "import copy\n",
    "import torch.nn as nn\n",
    "import torch.nn.functional as F\n",
    "from datasets import load_dataset\n",
    "import nltk\n",
    "from torch.nn.utils.rnn import pad_sequence\n",
    "from torch.utils.data import DataLoader, Dataset\n",
    "from tqdm import tqdm\n",
    "nltk.download('punkt')\n",
    "from sklearn.model_selection import train_test_split\n",
    "from nltk.tokenize import word_tokenize\n",
    "from nltk.tokenize import sent_tokenize\n",
    "from gensim.models import Word2Vec\n",
    "import numpy as np\n",
    "import torch.optim as optim\n",
    "from torch.autograd import Variable\n",
    "import string\n",
    "import matplotlib.pyplot as plt\n",
    "\n",
    "device = torch.device('cuda' if torch.cuda.is_available() else 'cpu')\n",
    "print(device)\n",
    "    \n",
    "## Task Specific Libraries\n",
    "from transformers import AutoModelForCausalLM, AutoTokenizer, AdamW\n",
    "from transformers import GPT2LMHeadModel, GPT2Tokenizer\n",
    "from transformers import BitsAndBytesConfig\n"
   ]
  },
  {
   "cell_type": "markdown",
   "metadata": {},
   "source": [
    "### **Loading Model**"
   ]
  },
  {
   "cell_type": "code",
   "execution_count": 2,
   "metadata": {},
   "outputs": [
    {
     "name": "stdout",
     "output_type": "stream",
     "text": [
      "Memory footprint: 486.70 MB\n"
     ]
    }
   ],
   "source": [
    "model_name = \"gpt2\"\n",
    "\n",
    "model_org = AutoModelForCausalLM.from_pretrained(\n",
    "    \"gpt2\"\n",
    ")\n",
    "\n",
    "memory_footprint_bytes = model_org.get_memory_footprint()\n",
    "\n",
    "memory_footprint_mb = memory_footprint_bytes / (1024 ** 2)\n",
    "memory_footprint_gb = memory_footprint_bytes / (1024 ** 3)\n",
    "\n",
    "print(f\"Memory footprint: {memory_footprint_mb:.2f} MB\")"
   ]
  },
  {
   "cell_type": "markdown",
   "metadata": {},
   "source": [
    "### **Quantization 8-bit Model**"
   ]
  },
  {
   "cell_type": "code",
   "execution_count": 3,
   "metadata": {},
   "outputs": [
    {
     "name": "stdout",
     "output_type": "stream",
     "text": [
      "Memory footprint: 168.35 MB\n"
     ]
    }
   ],
   "source": [
    "\n",
    "quantization_config = BitsAndBytesConfig(\n",
    "    load_in_8bit=True\n",
    "    )\n",
    "\n",
    "model_8bit = AutoModelForCausalLM.from_pretrained(\n",
    "    \"gpt2\", \n",
    "    quantization_config=quantization_config,\n",
    "    device_map=\"auto\"\n",
    ")\n",
    "\n",
    "memory_footprint_bytes = model_8bit.get_memory_footprint()\n",
    "\n",
    "memory_footprint_mb = memory_footprint_bytes / (1024 ** 2)\n",
    "memory_footprint_gb = memory_footprint_bytes / (1024 ** 3)\n",
    "\n",
    "print(f\"Memory footprint: {memory_footprint_mb:.2f} MB\")\n"
   ]
  },
  {
   "cell_type": "markdown",
   "metadata": {},
   "source": [
    "### **Quantization 4-Bit Model**"
   ]
  },
  {
   "cell_type": "code",
   "execution_count": 4,
   "metadata": {},
   "outputs": [
    {
     "name": "stdout",
     "output_type": "stream",
     "text": [
      "Memory footprint: 127.85 MB\n"
     ]
    }
   ],
   "source": [
    "quantization_config = BitsAndBytesConfig(\n",
    "    load_in_4bit=True,\n",
    "    bnb_4bit_quant_type=\"fp4\",\n",
    "    bnb_4bit_compute_dtype=torch.float16\n",
    "    )\n",
    "\n",
    "model_4bit = AutoModelForCausalLM.from_pretrained(\n",
    "    \"gpt2\", \n",
    "    quantization_config=quantization_config,\n",
    "    device_map=\"auto\"\n",
    ")\n",
    "\n",
    "memory_footprint_bytes = model_4bit.get_memory_footprint()\n",
    "\n",
    "memory_footprint_mb = memory_footprint_bytes / (1024 ** 2)\n",
    "memory_footprint_gb = memory_footprint_bytes / (1024 ** 3)\n",
    "\n",
    "print(f\"Memory footprint: {memory_footprint_mb:.2f} MB\")"
   ]
  },
  {
   "cell_type": "markdown",
   "metadata": {},
   "source": [
    "### **NF-4 Quantization Model**"
   ]
  },
  {
   "cell_type": "code",
   "execution_count": 5,
   "metadata": {},
   "outputs": [
    {
     "name": "stdout",
     "output_type": "stream",
     "text": [
      "Memory footprint: 127.85 MB\n"
     ]
    }
   ],
   "source": [
    "nf4_config = BitsAndBytesConfig(\n",
    "    load_in_4bit=True,\n",
    "    bnb_4bit_quant_type=\"nf4\",\n",
    ")\n",
    "\n",
    "model_nf4bit = AutoModelForCausalLM.from_pretrained(\n",
    "    \"gpt2\", \n",
    "    quantization_config=nf4_config,\n",
    "    device_map=\"auto\"\n",
    ")\n",
    "\n",
    "memory_footprint_bytes = model_nf4bit.get_memory_footprint()\n",
    "\n",
    "memory_footprint_mb = memory_footprint_bytes / (1024 ** 2)\n",
    "memory_footprint_gb = memory_footprint_bytes / (1024 ** 3)\n",
    "\n",
    "print(f\"Memory footprint: {memory_footprint_mb:.2f} MB\")"
   ]
  },
  {
   "cell_type": "markdown",
   "metadata": {},
   "source": [
    "### **Corpus Retrieval**"
   ]
  },
  {
   "cell_type": "code",
   "execution_count": 6,
   "metadata": {},
   "outputs": [],
   "source": [
    "def retrieve_corpus(filename):\n",
    "    with open(filename, 'r', encoding='utf-8') as file:\n",
    "        corpus = []\n",
    "        for line in file:\n",
    "            # print(line.strip().lower())\n",
    "            corpus.append(line.lower())\n",
    "        return corpus\n",
    "    \n",
    "def remove_punctuation(tokenized_sentence):\n",
    "    return [word for word in tokenized_sentence if word not in string.punctuation]\n",
    "    \n",
    "# corpus_train = retrieve_corpus(\"./Dataset/ptb.train.txt\")\n",
    "# corpus_test = retrieve_corpus(\"./Dataset/ptb.test.txt\")\n",
    "# corpus_val = retrieve_corpus(\"./Dataset/ptb.valid.txt\")"
   ]
  },
  {
   "cell_type": "markdown",
   "metadata": {},
   "source": [
    "### **Loading Test Data**"
   ]
  },
  {
   "cell_type": "code",
   "execution_count": 7,
   "metadata": {},
   "outputs": [
    {
     "name": "stdout",
     "output_type": "stream",
     "text": [
      "Loaded 2891 samples for evaluation\n"
     ]
    }
   ],
   "source": [
    "dataset = load_dataset(\"wikitext\", \"wikitext-2-raw-v1\", split=\"test\")\n",
    "\n",
    "eval_texts = []\n",
    "for item in dataset:\n",
    "    if item['text'].strip():\n",
    "        eval_texts.append(item['text'])\n",
    "        if len(eval_texts) >= 3000:\n",
    "            break\n",
    "print(f\"Loaded {len(eval_texts)} samples for evaluation\")\n",
    "test_data = eval_texts"
   ]
  },
  {
   "cell_type": "markdown",
   "metadata": {},
   "source": [
    "### **Testing**"
   ]
  },
  {
   "cell_type": "code",
   "execution_count": 8,
   "metadata": {},
   "outputs": [],
   "source": [
    "def compute_perplexity(model, tokenizer, dataset, max_length=1024, device='cpu'):\n",
    "    model.eval()\n",
    "    total_loss = 0.0\n",
    "    total_tokens = 0\n",
    "    loss_fn = nn.CrossEntropyLoss(reduction='sum')\n",
    "\n",
    "    with torch.no_grad():\n",
    "        for example in tqdm(dataset, desc=\"Calculating perplexity\"):\n",
    "            encodings = tokenizer(example, return_tensors='pt', truncation=True, padding=True, max_length=max_length)\n",
    "            input_ids = encodings['input_ids'].to(device)\n",
    "            attention_mask = encodings['attention_mask'].to(device)\n",
    "            \n",
    "            labels = input_ids.clone()\n",
    "            \n",
    "            outputs = model(input_ids=input_ids, attention_mask=attention_mask, labels=labels)\n",
    "            \n",
    "            shift_logits = outputs.logits[..., :-1, :].contiguous()\n",
    "            shift_labels = labels[..., 1:].contiguous()\n",
    "\n",
    "            loss = loss_fn(shift_logits.view(-1, shift_logits.size(-1)), shift_labels.view(-1))\n",
    "            total_loss += loss.item()\n",
    "            total_tokens += attention_mask.sum().item() - 1\n",
    "\n",
    "        perplexity = math.exp(total_loss / total_tokens)\n",
    "\n",
    "    return perplexity\n",
    "\n",
    "def infer_text(model, tokenizer, prompt_text, max_length=50, device='cpu'):\n",
    "\n",
    "    input_ids = tokenizer.encode(prompt_text, return_tensors='pt').to(device)\n",
    "    generated_sequence = model.generate(\n",
    "        input_ids=input_ids,\n",
    "        max_length=max_length,\n",
    "        do_sample=True,\n",
    "        top_k=30,\n",
    "        pad_token_id=tokenizer.eos_token_id,\n",
    "        attention_mask=input_ids.new_ones(input_ids.shape)\n",
    "    )\n",
    "    return tokenizer.decode(generated_sequence[0], skip_special_tokens=True)\n",
    "\n",
    "def measure_inference_time(model, tokenizer, prompt_text, device='cpu'):\n",
    "    start = time.time()\n",
    "    with torch.no_grad():\n",
    "        infer_text(model, tokenizer, prompt_text, device=device)\n",
    "    return time.time() - start\n",
    "\n",
    "def evaluate_model(model,model_name=\"gpt2\", dataset=None, device='cpu',quantized=False):\n",
    "\n",
    "    tokenizer = GPT2Tokenizer.from_pretrained(model_name)\n",
    "    tokenizer.pad_token = tokenizer.eos_token\n",
    "    if quantized is False:\n",
    "        model.to(device) \n",
    "\n",
    "    perplexity_before = compute_perplexity(model, tokenizer, dataset, device=device)\n",
    "\n",
    "    latency_before = measure_inference_time(model, tokenizer, dataset[0], device=device)\n",
    "    \n",
    "    \n",
    "    return {\n",
    "        \"Latency\": latency_before,\n",
    "        \"Perplexity\": perplexity_before,\n",
    "    }"
   ]
  },
  {
   "cell_type": "code",
   "execution_count": 9,
   "metadata": {},
   "outputs": [
    {
     "name": "stderr",
     "output_type": "stream",
     "text": [
      "Calculating perplexity: 100%|██████████| 2891/2891 [00:39<00:00, 72.66it/s] \n"
     ]
    },
    {
     "name": "stdout",
     "output_type": "stream",
     "text": [
      "Original Model\n",
      "{'Latency': 0.36611056327819824, 'Perplexity': 49.615657664681976}\n"
     ]
    },
    {
     "name": "stderr",
     "output_type": "stream",
     "text": [
      "Calculating perplexity: 100%|██████████| 2891/2891 [00:59<00:00, 48.27it/s]\n"
     ]
    },
    {
     "name": "stdout",
     "output_type": "stream",
     "text": [
      "8 Bit Quantized Model\n",
      "{'Latency': 0.6902637481689453, 'Perplexity': 49.83906296567586}\n"
     ]
    },
    {
     "name": "stderr",
     "output_type": "stream",
     "text": [
      "Calculating perplexity: 100%|██████████| 2891/2891 [00:26<00:00, 109.38it/s]\n"
     ]
    },
    {
     "name": "stdout",
     "output_type": "stream",
     "text": [
      "4 Bit Quantized Model\n",
      "{'Latency': 0.2402641773223877, 'Perplexity': 58.068903897044386}\n"
     ]
    },
    {
     "name": "stderr",
     "output_type": "stream",
     "text": [
      "Calculating perplexity:   0%|          | 0/2891 [00:00<?, ?it/s]/home/chetan/anaconda3/lib/python3.11/site-packages/bitsandbytes/nn/modules.py:452: UserWarning: Input type into Linear4bit is torch.float16, but bnb_4bit_compute_dtype=torch.float32 (default). This will lead to slow inference or training speed.\n",
      "  warnings.warn(\n",
      "Calculating perplexity: 100%|██████████| 2891/2891 [00:50<00:00, 56.93it/s]\n"
     ]
    },
    {
     "name": "stdout",
     "output_type": "stream",
     "text": [
      "NF4 Quantized Model\n",
      "{'Latency': 0.2768716812133789, 'Perplexity': 53.2116608858351}\n"
     ]
    }
   ],
   "source": [
    "results = evaluate_model(model_org,model_name=\"gpt2\", dataset=test_data, device=device)\n",
    "print(\"Original Model\")\n",
    "print(results)\n",
    "\n",
    "results = evaluate_model(model_8bit,model_name=\"gpt2\", dataset=test_data, device=device, quantized=True)\n",
    "print(\"8 Bit Quantized Model\")\n",
    "print(results)\n",
    "\n",
    "results = evaluate_model(model_4bit,model_name=\"gpt2\", dataset=test_data, device=device, quantized=True)\n",
    "print(\"4 Bit Quantized Model\")\n",
    "print(results)\n",
    "\n",
    "results = evaluate_model(model_nf4bit,model_name=\"gpt2\", dataset=test_data, device=device, quantized=True)\n",
    "print(\"NF4 Quantized Model\")\n",
    "print(results)"
   ]
  },
  {
   "cell_type": "markdown",
   "metadata": {},
   "source": [
    "### **Plotting**"
   ]
  },
  {
   "cell_type": "code",
   "execution_count": null,
   "metadata": {},
   "outputs": [
    {
     "data": {
      "image/png": "[encoded data removed]",
      "text/plain": [
       "<Figure size 1000x600 with 2 Axes>"
      ]
     },
     "metadata": {},
     "output_type": "display_data"
    }
   ],
   "source": [
    "model_types = [\n",
    "    \"Original GPT\", \n",
    "    \"8-bit Quantized\", \n",
    "    \"4-bit Quantized\", \n",
    "    \"4-bit NF Quantized\"\n",
    "]\n",
    "memory_footprints = [486.70, 168.35, 127.85, 127.85]\n",
    "\n",
    "plt.figure(figsize=(8, 6))\n",
    "plt.bar(model_types, memory_footprints, color=[\"blue\", \"orange\", \"green\", \"red\"])\n",
    "\n",
    "plt.title(\"Memory Footprint Comparison\", fontsize=16)\n",
    "plt.xlabel(\"Model Type\", fontsize=12)\n",
    "plt.ylabel(\"Memory Footprint (MB)\", fontsize=12)\n",
    "\n",
    "for i, memory in enumerate(memory_footprints):\n",
    "    plt.text(i, memory + 10, f\"{memory:.2f} MB\", ha='center', fontsize=10)\n",
    "\n",
    "plt.tight_layout()\n",
    "plt.savefig(\"memory_part2.png\")\n",
    "\n",
    "models = [\n",
    "    \"Original Model\",\n",
    "    \"8-bit Quantized Model\",\n",
    "    \"4-bit Quantized Model\",\n",
    "    \"NF4 Quantized Model\"\n",
    "]\n",
    "latencies = [\n",
    "    0.36611056327819824,\n",
    "    0.6902637481689453,\n",
    "    0.2402641773223877,\n",
    "    0.2768716812133789\n",
    "]\n",
    "perplexities = [\n",
    "    49.615657664681976,\n",
    "    49.83906296567586,\n",
    "    58.068903897044386,\n",
    "    53.2116608858351\n",
    "]\n",
    "\n",
    "fig, ax1 = plt.subplots(figsize=(10, 6))\n",
    "\n",
    "bar_width = 0.35\n",
    "x = np.arange(len(models))\n",
    "\n",
    "ax1.bar(x - bar_width / 2, latencies, bar_width, label=\"Latency (s)\", color=\"blue\")\n",
    "\n",
    "ax2 = ax1.twinx()\n",
    "ax2.bar(x + bar_width / 2, perplexities, bar_width, label=\"Perplexity\", color=\"orange\")\n",
    "\n",
    "ax1.set_xlabel(\"Model Type\", fontsize=12)\n",
    "ax1.set_ylabel(\"Latency (s)\", fontsize=12, color=\"blue\")\n",
    "ax2.set_ylabel(\"Perplexity\", fontsize=12, color=\"orange\")\n",
    "ax1.set_title(\"Latency and Perplexity Comparison\", fontsize=16)\n",
    "ax1.set_xticks(x)\n",
    "ax1.set_xticklabels(models)\n",
    "\n",
    "ax1.legend(loc=\"upper left\")\n",
    "ax2.legend(loc=\"upper right\")\n",
    "\n",
    "for i, (lat, perp) in enumerate(zip(latencies, perplexities)):\n",
    "    ax1.text(i - bar_width / 2, lat + 0.01, f\"{lat:.3f}\", ha=\"center\", fontsize=10, color=\"blue\")\n",
    "    ax2.text(i + bar_width / 2, perp + 1, f\"{perp:.2f}\", ha=\"center\", fontsize=10, color=\"orange\")\n",
    "\n",
    "plt.tight_layout()\n",
    "plt.savefig(\"inference_part2.png\")\n"
   ]
  }
 ],
 "metadata": {
  "kernelspec": {
   "display_name": "Python 3",
   "language": "python",
   "name": "python3"
  },
  "language_info": {
   "codemirror_mode": {
    "name": "ipython",
    "version": 3
   },
   "file_extension": ".py",
   "mimetype": "text/x-python",
   "name": "python",
   "nbconvert_exporter": "python",
   "pygments_lexer": "ipython3",
   "version": "3.11.5"
  }
 },
 "nbformat": 4,
 "nbformat_minor": 2
}
