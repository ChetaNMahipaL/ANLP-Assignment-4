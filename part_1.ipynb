{
 "cells": [
  {
   "cell_type": "markdown",
   "metadata": {},
   "source": [
    "### **Importing Libraries**"
   ]
  },
  {
   "cell_type": "code",
   "execution_count": 1,
   "metadata": {},
   "outputs": [
    {
     "name": "stderr",
     "output_type": "stream",
     "text": [
      "2024-11-17 00:10:09.743738: I tensorflow/core/platform/cpu_feature_guard.cc:182] This TensorFlow binary is optimized to use available CPU instructions in performance-critical operations.\n",
      "To enable the following instructions: SSE4.1 SSE4.2 AVX AVX2 AVX_VNNI FMA, in other operations, rebuild TensorFlow with the appropriate compiler flags.\n"
     ]
    },
    {
     "name": "stdout",
     "output_type": "stream",
     "text": [
      "cuda\n"
     ]
    },
    {
     "name": "stderr",
     "output_type": "stream",
     "text": [
      "[nltk_data] Downloading package punkt to /home/chetan/nltk_data...\n",
      "[nltk_data]   Package punkt is already up-to-date!\n"
     ]
    }
   ],
   "source": [
    "from transformers import AutoModelForCausalLM, AutoTokenizer, AdamW\n",
    "from transformers import GPT2LMHeadModel, GPT2Tokenizer\n",
    "import torch\n",
    "from datasets import load_dataset\n",
    "import math\n",
    "import gc\n",
    "import psutil\n",
    "from tqdm import tqdm\n",
    "import time\n",
    "import copy\n",
    "from copy import deepcopy\n",
    "import torch.nn as nn\n",
    "import torch.nn.functional as F\n",
    "import nltk\n",
    "nltk.download('punkt')\n",
    "from sklearn.model_selection import train_test_split\n",
    "from nltk.tokenize import word_tokenize\n",
    "from nltk.tokenize import sent_tokenize\n",
    "from gensim.models import Word2Vec\n",
    "import numpy as np\n",
    "import torch.optim as optim\n",
    "from torch.autograd import Variable\n",
    "import string\n",
    "import matplotlib.pyplot as plt\n",
    "\n",
    "device = torch.device('cuda' if torch.cuda.is_available() else 'cpu')\n",
    "print(device)"
   ]
  },
  {
   "cell_type": "markdown",
   "metadata": {},
   "source": [
    "### **Printing few Info**"
   ]
  },
  {
   "cell_type": "code",
   "execution_count": null,
   "metadata": {},
   "outputs": [
    {
     "name": "stdout",
     "output_type": "stream",
     "text": [
      "Memory footprint: 486.70 MB\n"
     ]
    }
   ],
   "source": [
    "model_name = \"gpt2\"\n",
    "\n",
    "model_org = AutoModelForCausalLM.from_pretrained(\n",
    "    \"gpt2\"\n",
    ")\n",
    "\n",
    "memory_footprint_bytes = model_org.get_memory_footprint()\n",
    "\n",
    "memory_footprint_mb = memory_footprint_bytes / (1024 ** 2)\n",
    "\n",
    "print(f\"Memory footprint: {memory_footprint_mb:.2f} MB\")\n",
    "\n",
    "# save_directory = \"./Part_1_Models/gpt2\"\n",
    "# model_org.save_pretrained(save_directory)"
   ]
  },
  {
   "cell_type": "markdown",
   "metadata": {},
   "source": [
    "### **Quantized Model Impementation-1**"
   ]
  },
  {
   "cell_type": "code",
   "execution_count": 3,
   "metadata": {},
   "outputs": [],
   "source": [
    "# def quantize_int8(tensor):\n",
    "#     \"\"\"\n",
    "#     Quantize tensor to INT8 with proper scaling\n",
    "#     \"\"\"\n",
    "#     tensor = tensor.to(torch.float32)\n",
    "    \n",
    "#     qmin = tensor.min()\n",
    "#     qmax = tensor.max()\n",
    "    \n",
    "#     scale = (qmax - qmin) / 255.0  # 255 = 2^8 - 1\n",
    "#     zero_point = (-128 - qmin / scale).round().clamp(-128, 127).to(torch.int8)\n",
    "    \n",
    "#     quant_tensor = (tensor / scale + zero_point).round().clamp(-128, 127).to(torch.int8)\n",
    "    \n",
    "#     return quant_tensor, scale, zero_point\n",
    "\n",
    "# def dequantize_int8(quant_tensor, scale, zero_point):\n",
    "#     \"\"\"\n",
    "#     Dequantize INT8 tensor back to floating point\n",
    "#     \"\"\"\n",
    "#     return scale * (quant_tensor.to(torch.float32) - zero_point)\n",
    "\n",
    "# class Int8LinearLayer(nn.Module):\n",
    "#     def __init__(self, input_features, output_features, bias=True, dtype=torch.float32):\n",
    "#         super().__init__()\n",
    "        \n",
    "#         self.register_buffer(\"quant_weights\", \n",
    "#                            torch.zeros((output_features, input_features), dtype=torch.int8))\n",
    "#         self.register_buffer(\"scales\", \n",
    "#                            torch.ones(output_features, dtype=torch.float32))\n",
    "#         self.register_buffer(\"zero_points\",\n",
    "#                            torch.zeros(output_features, dtype=torch.int8))\n",
    "        \n",
    "#         if bias:\n",
    "#             self.register_buffer(\"bias\", \n",
    "#                                torch.zeros(output_features, dtype=dtype))\n",
    "#         else:\n",
    "#             self.bias = None\n",
    "            \n",
    "#     def forward(self, inputs):\n",
    "#         \"\"\"\n",
    "#         Forward pass with INT8 quantized weights\n",
    "#         \"\"\"\n",
    "#         inputs = inputs.to(torch.float16)\n",
    "        \n",
    "#         dequantized_weights = (\n",
    "#             (self.quant_weights.float() - self.zero_points.unsqueeze(1)) * \n",
    "#             self.scales.unsqueeze(1)\n",
    "#         ).to(inputs.dtype)\n",
    "        \n",
    "#         output = F.linear(inputs, dequantized_weights)\n",
    "        \n",
    "#         if self.bias is not None:\n",
    "#             output = output + self.bias.to(inputs.dtype)\n",
    "            \n",
    "#         return output\n",
    "    \n",
    "#     def quantize(self, weights):\n",
    "#         \"\"\"\n",
    "#         Quantize weights to INT8 with proper scaling\n",
    "#         \"\"\"\n",
    "#         w_fp32 = weights.detach().clone().to(torch.float32)\n",
    "        \n",
    "#         for idx in range(w_fp32.size(0)):\n",
    "#             row = w_fp32[idx]\n",
    "#             quant_row, scale, zero_point = quantize_int8(row)\n",
    "            \n",
    "#             self.quant_weights[idx] = quant_row\n",
    "#             self.scales[idx] = scale\n",
    "#             self.zero_points[idx] = zero_point\n",
    "\n",
    "# class Int8QuantModel(nn.Module):\n",
    "#     def __init__(self, model):\n",
    "#         super().__init__()\n",
    "#         self.model = model\n",
    "#         self.exclude_layers = ['wte', 'wpe']\n",
    "        \n",
    "#         self._replace_linear_layers()\n",
    "    \n",
    "#     def _replace_linear_layers(self):\n",
    "#         \"\"\"\n",
    "#         Replace standard linear layers with INT8 quantized layers\n",
    "#         \"\"\"\n",
    "#         for name, module in self.model.named_modules():\n",
    "#             if isinstance(module, nn.Linear) and not any(exclude in name for exclude in self.exclude_layers):\n",
    "#                 parent = self._get_parent_module(name)\n",
    "#                 if parent is not None:\n",
    "#                     layer_name = name.split('.')[-1]\n",
    "#                     new_layer = Int8LinearLayer(\n",
    "#                         module.in_features,\n",
    "#                         module.out_features,\n",
    "#                         bias=module.bias is not None,\n",
    "#                         dtype=module.weight.dtype\n",
    "#                     )\n",
    "#                     new_layer.quantize(module.weight)\n",
    "#                     if module.bias is not None:\n",
    "#                         new_layer.bias = module.bias\n",
    "                    \n",
    "#                     setattr(parent, layer_name, new_layer)\n",
    "    \n",
    "#     def _get_parent_module(self, name):\n",
    "#         \"\"\"\n",
    "#         Get parent module for a given module name\n",
    "#         \"\"\"\n",
    "#         parent_path = '.'.join(name.split('.')[:-1])\n",
    "#         if not parent_path:\n",
    "#             return self.model\n",
    "            \n",
    "#         try:\n",
    "#             parent = self.model\n",
    "#             for part in parent_path.split('.'):\n",
    "#                 parent = getattr(parent, part)\n",
    "#             return parent\n",
    "#         except AttributeError:\n",
    "#             return None\n",
    "\n",
    "#     def forward(self, input_ids=None, attention_mask=None, **kwargs):\n",
    "#         if input_ids is not None:\n",
    "#             input_ids = input_ids.long()\n",
    "#         if attention_mask is not None:\n",
    "#             attention_mask = attention_mask.to(torch.float16)\n",
    "            \n",
    "#         return self.model(\n",
    "#             input_ids=input_ids,\n",
    "#             attention_mask=attention_mask,\n",
    "#             **kwargs\n",
    "#         )\n",
    "    \n",
    "#     def get_memory_footprint(self):\n",
    "#         \"\"\"\n",
    "#         Calculate total memory footprint of the quantized model using numel().\n",
    "#         Returns total memory usage in bytes.\n",
    "#         \"\"\"\n",
    "#         total_bytes = 0\n",
    "        \n",
    "#         # For each named parameter in the model\n",
    "#         for name, param in self.model.named_parameters():\n",
    "#             total_bytes += param.numel()*param.element_size()\n",
    "                \n",
    "#         return total_bytes\n",
    "\n",
    "# model_name = \"gpt2\"\n",
    "\n",
    "# model = AutoModelForCausalLM.from_pretrained(\n",
    "#     \"gpt2\"\n",
    "# )\n",
    "# # Quantize all linear layers in the GPT-2 model\n",
    "# model_quant=Int8QuantModel(model)\n",
    "# print(model_quant)\n",
    "\n",
    "# memory_footprint_bytes = model_quant.get_memory_footprint()\n",
    "\n",
    "# memory_footprint_mb = memory_footprint_bytes / (1024 ** 2)\n",
    "# memory_footprint_gb = memory_footprint_bytes / (1024 ** 3)\n",
    "\n",
    "# print(f\"Memory footprint: {memory_footprint_bytes} bytes\")\n",
    "# print(f\"Memory footprint: {memory_footprint_mb:.2f} MB\")\n",
    "# print(f\"Memory footprint: {memory_footprint_gb:.2f} GB\")\n"
   ]
  },
  {
   "cell_type": "markdown",
   "metadata": {},
   "source": [
    "### **Quantized Model Implementation-2**"
   ]
  },
  {
   "cell_type": "code",
   "execution_count": 15,
   "metadata": {},
   "outputs": [
    {
     "name": "stdout",
     "output_type": "stream",
     "text": [
      "8-bit Quantized Model Size: 118.68 MB\n"
     ]
    }
   ],
   "source": [
    "def quantize_int8(tensor):\n",
    "    \"\"\"\n",
    "    Quantize tensor to INT8 with proper scaling\n",
    "    \"\"\"\n",
    "    tensor = tensor.to(torch.float32)\n",
    "    \n",
    "    qmin = tensor.min()\n",
    "    qmax = tensor.max()\n",
    "    \n",
    "    scale = (qmax - qmin) / 255.0  # 255 = 2^8 - 1\n",
    "    zero_point = (-128 - qmin / scale).round().clamp(-128, 127).to(torch.int8)\n",
    "    \n",
    "    quant_tensor = (tensor / scale + zero_point).round().clamp(-128, 127).to(torch.int8)\n",
    "    \n",
    "    return quant_tensor, scale, zero_point\n",
    "\n",
    "def dequantize_int8(quant_tensor, scale, zero_point):\n",
    "    \"\"\"\n",
    "    Dequantize INT8 tensor back to floating point\n",
    "    \"\"\"\n",
    "    return scale * (quant_tensor.to(torch.float32) - zero_point)\n",
    "\n",
    "class WholeQuantizationModel(torch.nn.Module):\n",
    "    def __init__(self, original_model):\n",
    "        super().__init__()\n",
    "        self.quantization_params = {}\n",
    "        self.model_size = 0\n",
    "        \n",
    "        self.device = next(original_model.parameters()).device\n",
    "        self.original_model = original_model.to(self.device)\n",
    "        \n",
    "        with torch.no_grad():\n",
    "            for name, param in self.original_model.named_parameters():\n",
    "                param.data = param.data.to(self.device) \n",
    "                quantized_tensor, scale, zero_point = quantize_int8(param.data)\n",
    "                self.model_size += quantized_tensor.numel()\n",
    "                \n",
    "                self.quantization_params[name] = {\n",
    "                    \"quantized\": quantized_tensor.to(self.device),\n",
    "                    \"scale\": scale,\n",
    "                    \"zero_point\": zero_point,\n",
    "                }\n",
    "                \n",
    "                dequantized = dequantize_int8(\n",
    "                    quantized_tensor, \n",
    "                    scale, \n",
    "                    zero_point\n",
    "                ).to(self.device)\n",
    "                \n",
    "                param.data.copy_(dequantized)\n",
    "        \n",
    "        self.model_size = self.model_size / (1024 ** 2)\n",
    "    \n",
    "    def to(self, device):\n",
    "        self.device = device\n",
    "        self.original_model = self.original_model.to(device)\n",
    "        return super().to(device)\n",
    "    \n",
    "    def forward(self, input_ids, attention_mask=None, labels=None, **kwargs):\n",
    "        input_ids = input_ids.to(self.device)\n",
    "        if attention_mask is not None:\n",
    "            attention_mask = attention_mask.to(self.device)\n",
    "        if labels is not None:\n",
    "            labels = labels.to(self.device)\n",
    "            \n",
    "        with torch.no_grad():\n",
    "            outputs = self.original_model(\n",
    "                input_ids=input_ids,\n",
    "                attention_mask=attention_mask,\n",
    "                labels=labels,\n",
    "                **kwargs\n",
    "            )\n",
    "        return outputs\n",
    "    \n",
    "    def generate(self, input_ids, attention_mask=None, **kwargs):\n",
    "        \"\"\"Add generate functionality\"\"\"\n",
    "        # Ensure to handle quantization correctly during generation\n",
    "        return self.original_model.generate(input_ids, attention_mask=attention_mask, **kwargs)\n",
    "\n",
    "model = AutoModelForCausalLM.from_pretrained(\n",
    "    \"gpt2\"\n",
    ")\n",
    "quantFullModel = WholeQuantizationModel(model)\n",
    "print(f\"8-bit Quantized Model Size: {quantFullModel.model_size:.2f} MB\")\n",
    "\n",
    "torch.save(quantFullModel.state_dict(), './Part_1_Models/quantized_whole.pth')"
   ]
  },
  {
   "cell_type": "markdown",
   "metadata": {},
   "source": [
    "### **Partial Quantization Model**"
   ]
  },
  {
   "cell_type": "code",
   "execution_count": 16,
   "metadata": {},
   "outputs": [
    {
     "name": "stdout",
     "output_type": "stream",
     "text": [
      "8-bit Selected Quantized Model Size: 271.91 MB\n"
     ]
    }
   ],
   "source": [
    "class Decoder_QuantizedModel(torch.nn.Module):\n",
    "    def __init__(self, original_model, quantized_blocks):\n",
    "        super().__init__()\n",
    "        self.quantization_params = {}\n",
    "        self.model_size = 0\n",
    "        self.quantized_blocks = quantized_blocks\n",
    "        \n",
    "        self.device = next(original_model.parameters()).device\n",
    "        \n",
    "        self.original_model = original_model.to(self.device)\n",
    "        \n",
    "        with torch.no_grad():\n",
    "            for name, param in self.original_model.named_parameters():\n",
    "                param.data = param.data.to(self.device) \n",
    "                is_decoder_block = any(f\"transformer.h.{idx}.\" in name for idx in self.quantized_blocks)\n",
    "                if is_decoder_block:\n",
    "                    quantized_tensor, scale, zero_point = quantize_int8(param.data)\n",
    "                    self.model_size += quantized_tensor.numel()\n",
    "                    \n",
    "                    self.quantization_params[name] = {\n",
    "                        \"quantized\": quantized_tensor.to(self.device),\n",
    "                        \"scale\": scale,\n",
    "                        \"zero_point\": zero_point,\n",
    "                    }\n",
    "                    \n",
    "                    dequantized = dequantize_int8(\n",
    "                        quantized_tensor, \n",
    "                        scale, \n",
    "                        zero_point\n",
    "                    ).to(self.device)\n",
    "                    \n",
    "                    param.data.copy_(dequantized)\n",
    "                else:\n",
    "                    self.model_size += param.numel() * param.element_size()\n",
    "        \n",
    "        self.model_size = self.model_size / (1024 ** 2)\n",
    "    \n",
    "    def to(self, device):\n",
    "        \"\"\"Override to method to handle device movement\"\"\"\n",
    "        self.device = device\n",
    "        self.original_model = self.original_model.to(device)\n",
    "        return super().to(device)\n",
    "    \n",
    "    def forward(self, input_ids, attention_mask=None, labels=None, **kwargs):\n",
    "        input_ids = input_ids.to(self.device)\n",
    "        if attention_mask is not None:\n",
    "            attention_mask = attention_mask.to(self.device)\n",
    "        if labels is not None:\n",
    "            labels = labels.to(self.device)\n",
    "            \n",
    "        with torch.no_grad():\n",
    "            outputs = self.original_model(\n",
    "                input_ids=input_ids,\n",
    "                attention_mask=attention_mask,\n",
    "                labels=labels,\n",
    "                **kwargs\n",
    "            )\n",
    "        return outputs\n",
    "\n",
    "    def generate(self, input_ids, attention_mask=None, **kwargs):\n",
    "        \"\"\"Add generate functionality\"\"\"\n",
    "        # Ensure to handle quantization correctly during generation\n",
    "        return self.original_model.generate(input_ids, attention_mask=attention_mask, **kwargs)\n",
    "\n",
    "model_name = \"gpt2\"\n",
    "model = AutoModelForCausalLM.from_pretrained(model_name)\n",
    "\n",
    "num_layers = len(model.transformer.h)\n",
    "quantized_blocks = list(range(1, num_layers-1))\n",
    "quantSelModel = Decoder_QuantizedModel(model, quantized_blocks)\n",
    "print(f\"8-bit Selected Quantized Model Size: {quantSelModel.model_size:.2f} MB\")\n",
    "\n",
    "torch.save(quantSelModel.state_dict(), './Part_1_Models/quantized_select.pth')"
   ]
  },
  {
   "cell_type": "markdown",
   "metadata": {},
   "source": [
    "### **Corpus Retrieval**"
   ]
  },
  {
   "cell_type": "code",
   "execution_count": 6,
   "metadata": {},
   "outputs": [],
   "source": [
    "def retrieve_corpus(filename):\n",
    "    with open(filename, 'r', encoding='utf-8') as file:\n",
    "        corpus = []\n",
    "        for line in file:\n",
    "            # print(line.strip().lower())\n",
    "            corpus.append(line.lower())\n",
    "        return corpus\n",
    "    \n",
    "def remove_punctuation(tokenized_sentence):\n",
    "    return [word for word in tokenized_sentence if word not in string.punctuation]\n",
    "    \n",
    "# corpus_train = retrieve_corpus(\"./Dataset/ptb.train.txt\")\n",
    "# corpus_test = retrieve_corpus(\"./Dataset/ptb.test.txt\")\n",
    "# corpus_val = retrieve_corpus(\"./Dataset/ptb.valid.txt\")"
   ]
  },
  {
   "cell_type": "markdown",
   "metadata": {},
   "source": [
    "### **Dataset Loading**"
   ]
  },
  {
   "cell_type": "code",
   "execution_count": 7,
   "metadata": {},
   "outputs": [
    {
     "name": "stdout",
     "output_type": "stream",
     "text": [
      "Loaded 2891 samples for evaluation\n"
     ]
    }
   ],
   "source": [
    "dataset = load_dataset(\"wikitext\", \"wikitext-2-raw-v1\", split=\"test\")\n",
    "\n",
    "eval_texts = []\n",
    "for item in dataset:\n",
    "    if item['text'].strip():\n",
    "        eval_texts.append(item['text'])\n",
    "        if len(eval_texts) >= 3000:\n",
    "            break\n",
    "print(f\"Loaded {len(eval_texts)} samples for evaluation\")\n",
    "test_data = eval_texts"
   ]
  },
  {
   "cell_type": "markdown",
   "metadata": {},
   "source": [
    "### **Testing**"
   ]
  },
  {
   "cell_type": "code",
   "execution_count": 8,
   "metadata": {},
   "outputs": [],
   "source": [
    "def compute_perplexity(model, tokenizer, dataset, max_length=1024, device='cpu'):\n",
    "    model.eval()\n",
    "    total_loss = 0.0\n",
    "    total_tokens = 0\n",
    "    loss_fn = nn.CrossEntropyLoss(reduction='sum')\n",
    "\n",
    "    with torch.no_grad():\n",
    "        for example in tqdm(dataset, desc=\"Calculating perplexity\"):\n",
    "            encodings = tokenizer(example, return_tensors='pt', truncation=True, padding=True, max_length=max_length)\n",
    "            input_ids = encodings['input_ids'].to(device)\n",
    "            attention_mask = encodings['attention_mask'].to(device)\n",
    "            \n",
    "            labels = input_ids.clone()\n",
    "            \n",
    "            outputs = model(input_ids=input_ids, attention_mask=attention_mask, labels=labels)\n",
    "            \n",
    "            shift_logits = outputs.logits[..., :-1, :].contiguous()\n",
    "            shift_labels = labels[..., 1:].contiguous()\n",
    "\n",
    "            loss = loss_fn(shift_logits.view(-1, shift_logits.size(-1)), shift_labels.view(-1))\n",
    "            total_loss += loss.item()\n",
    "            total_tokens += attention_mask.sum().item() - 1\n",
    "\n",
    "        perplexity = math.exp(total_loss / total_tokens)\n",
    "\n",
    "    return perplexity\n",
    "\n",
    "def infer_text(model, tokenizer, prompt_text, max_length=50, device='cpu'):\n",
    "\n",
    "    input_ids = tokenizer.encode(prompt_text, return_tensors='pt').to(device)\n",
    "    generated_sequence = model.generate(\n",
    "        input_ids=input_ids,\n",
    "        max_length=max_length,\n",
    "        do_sample=True,\n",
    "        top_k=30,\n",
    "        pad_token_id=tokenizer.eos_token_id,\n",
    "        attention_mask=input_ids.new_ones(input_ids.shape)\n",
    "    )\n",
    "    return tokenizer.decode(generated_sequence[0], skip_special_tokens=True)\n",
    "\n",
    "def measure_inference_time(model, tokenizer, prompt_text, device='cpu'):\n",
    "    start = time.time()\n",
    "    with torch.no_grad():\n",
    "        infer_text(model, tokenizer, prompt_text, device=device)\n",
    "    return time.time() - start\n",
    "\n",
    "def evaluate_model(model,model_name=\"gpt2\", dataset=None, device='cpu'):\n",
    "\n",
    "    tokenizer = GPT2Tokenizer.from_pretrained(model_name)\n",
    "    tokenizer.pad_token = tokenizer.eos_token\n",
    "    model.to(device) \n",
    "\n",
    "    perplexity_before = compute_perplexity(model, tokenizer, dataset, device=device)\n",
    "\n",
    "    latency_before = measure_inference_time(model, tokenizer, dataset[0], device=device)\n",
    "    \n",
    "    \n",
    "    return {\n",
    "        \"Latency\": latency_before,\n",
    "        \"Perplexity\": perplexity_before,\n",
    "    }"
   ]
  },
  {
   "cell_type": "markdown",
   "metadata": {},
   "source": [
    "### **Results**"
   ]
  },
  {
   "cell_type": "code",
   "execution_count": 9,
   "metadata": {},
   "outputs": [
    {
     "name": "stderr",
     "output_type": "stream",
     "text": [
      "Calculating perplexity: 100%|██████████| 2891/2891 [00:40<00:00, 72.18it/s] \n"
     ]
    },
    {
     "name": "stdout",
     "output_type": "stream",
     "text": [
      "Original Model\n",
      "{'Latency': 0.3262801170349121, 'Perplexity': 49.615657664681976}\n"
     ]
    },
    {
     "name": "stderr",
     "output_type": "stream",
     "text": [
      "Calculating perplexity: 100%|██████████| 2891/2891 [00:40<00:00, 71.72it/s] \n"
     ]
    },
    {
     "name": "stdout",
     "output_type": "stream",
     "text": [
      "8 Bit  Whole Quantized Model\n",
      "{'Latency': 0.18835139274597168, 'Perplexity': 51.60515713002346}\n"
     ]
    },
    {
     "name": "stderr",
     "output_type": "stream",
     "text": [
      "Calculating perplexity: 100%|██████████| 2891/2891 [00:40<00:00, 71.35it/s] \n"
     ]
    },
    {
     "name": "stdout",
     "output_type": "stream",
     "text": [
      "8 Bit  Selective Quantized Model\n",
      "{'Latency': 0.1855759620666504, 'Perplexity': 51.08351577253234}\n"
     ]
    }
   ],
   "source": [
    "results = evaluate_model(model_org, model_name=\"gpt2\", dataset=test_data, device=device)\n",
    "print(\"Original Model\")\n",
    "print(results)\n",
    "\n",
    "results = evaluate_model(quantFullModel, model_name=\"gpt2\", dataset=test_data, device=device)\n",
    "print(\"8 Bit  Whole Quantized Model\")\n",
    "print(results)\n",
    "\n",
    "results = evaluate_model(quantSelModel, model_name=\"gpt2\", dataset=test_data, device=device)\n",
    "print(\"8 Bit  Selective Quantized Model\")\n",
    "print(results)"
   ]
  },
  {
   "cell_type": "markdown",
   "metadata": {},
   "source": [
    "### **Plotting**"
   ]
  },
  {
   "cell_type": "code",
   "execution_count": null,
   "metadata": {},
   "outputs": [
    {
     "data": {
      "image/png": "[encoded data removed]",
      "text/plain": [
       "<Figure size 800x600 with 1 Axes>"
      ]
     },
     "metadata": {},
     "output_type": "display_data"
    },
    {
     "data": {
      "image/png": "[encoded data removed]",
      "text/plain": [
       "<Figure size 1000x600 with 2 Axes>"
      ]
     },
     "metadata": {},
     "output_type": "display_data"
    }
   ],
   "source": [
    "model_types = [\"Original GPT-2\", \"8-bit Quantized\", \"8-bit Selected Quantized\"]\n",
    "model_sizes = [486.70, 118.68, 271.91]\n",
    "\n",
    "plt.figure(figsize=(8, 6))\n",
    "plt.bar(model_types, model_sizes, color=[\"blue\", \"orange\", \"green\"])\n",
    "\n",
    "plt.title(\"Model Size Comparison\", fontsize=16)\n",
    "plt.xlabel(\"Model Type\", fontsize=12)\n",
    "plt.ylabel(\"Model Size (MB)\", fontsize=12)\n",
    "\n",
    "for i, size in enumerate(model_sizes):\n",
    "    plt.text(i, size + 10, f\"{size:.2f} MB\", ha='center', fontsize=10)\n",
    "\n",
    "plt.tight_layout()\n",
    "plt.savefig('memory_part1.png')\n",
    "\n",
    "models = [\"Original GPT-2\", \"8-bit Whole Quantized\", \"8-bit Selective Quantized\"]\n",
    "latencies = [0.3262801170349121, 0.18835139274597168, 0.1855759620666504]\n",
    "perplexities = [49.615657664681976, 51.60515713002346, 51.08351577253234]\n",
    "\n",
    "fig, ax1 = plt.subplots(figsize=(10, 6))\n",
    "\n",
    "bar_width = 0.35\n",
    "x = np.arange(len(models))\n",
    "ax1.bar(x - bar_width/2, latencies, bar_width, label='Latency (s)', color='blue')\n",
    "\n",
    "ax2 = ax1.twinx()\n",
    "ax2.bar(x + bar_width/2, perplexities, bar_width, label='Perplexity', color='orange')\n",
    "\n",
    "ax1.set_xlabel('Model Type', fontsize=12)\n",
    "ax1.set_ylabel('Latency (s)', fontsize=12, color='blue')\n",
    "ax2.set_ylabel('Perplexity', fontsize=12, color='orange')\n",
    "ax1.set_title('Model Performance: Latency and Perplexity', fontsize=16)\n",
    "ax1.set_xticks(x)\n",
    "ax1.set_xticklabels(models)\n",
    "\n",
    "ax1.legend(loc='upper left')\n",
    "ax2.legend(loc='upper right')\n",
    "\n",
    "for i, (lat, perp) in enumerate(zip(latencies, perplexities)):\n",
    "    ax1.text(i - bar_width/2, lat + 0.005, f\"{lat:.3f}\", ha='center', fontsize=10, color='blue')\n",
    "    ax2.text(i + bar_width/2, perp + 0.5, f\"{perp:.2f}\", ha='center', fontsize=10, color='orange')\n",
    "\n",
    "plt.tight_layout()\n",
    "plt.savefig('inference_part1.png')\n"
   ]
  }
 ],
 "metadata": {
  "kernelspec": {
   "display_name": "Python 3",
   "language": "python",
   "name": "python3"
  },
  "language_info": {
   "codemirror_mode": {
    "name": "ipython",
    "version": 3
   },
   "file_extension": ".py",
   "mimetype": "text/x-python",
   "name": "python",
   "nbconvert_exporter": "python",
   "pygments_lexer": "ipython3",
   "version": "3.11.5"
  }
 },
 "nbformat": 4,
 "nbformat_minor": 2
}
